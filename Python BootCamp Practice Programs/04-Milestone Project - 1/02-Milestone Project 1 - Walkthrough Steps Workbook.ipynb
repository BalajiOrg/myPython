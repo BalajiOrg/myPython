{
 "cells": [
  {
   "cell_type": "markdown",
   "metadata": {},
   "source": [
    "# Milestone Project 1: Walkthrough Steps Workbook\n",
    "\n",
    "Below is a set of steps for you to follow to try to create the Tic Tac Toe Milestone Project game!"
   ]
  },
  {
   "cell_type": "markdown",
   "metadata": {},
   "source": [
    "#### Some suggested tools before you get started:\n",
    "To take input from a user:\n",
    "\n",
    "    player1 = input(\"Please pick a marker 'X' or 'O'\")\n",
    "    \n",
    "Note that input() takes in a string. If you need an integer value, use\n",
    "\n",
    "    position = int(input('Please enter a number'))\n",
    "    \n",
    "<br>To clear the screen between moves:\n",
    "\n",
    "    from IPython.display import clear_output\n",
    "    clear_output()\n",
    "    \n",
    "Note that clear_output() will only work in jupyter. To clear the screen in other IDEs, consider:\n",
    "\n",
    "    print('\\n'*100)\n",
    "    \n",
    "This scrolls the previous board up out of view. Now on to the program!"
   ]
  },
  {
   "cell_type": "markdown",
   "metadata": {},
   "source": [
    "**Step 1: Write a function that can print out a board. Set up your board as a list, where each index 1-9 corresponds with a number on a number pad, so you get a 3 by 3 board representation.**"
   ]
  },
  {
   "cell_type": "code",
   "execution_count": 1,
   "metadata": {},
   "outputs": [],
   "source": [
    "from IPython.display import clear_output\n",
    "\n",
    "def display_board(board):\n",
    "    \n",
    "    print(f'     |     |    ')\n",
    "    print(f'  {board[7]}  |  {board[8]}  |  {board[9]}  ')\n",
    "    print(f'     |     |              ')\n",
    "    print(f'----------------')\n",
    "    print(f'     |     |              ')\n",
    "    print(f'  {board[4]}  |  {board[5]}  |  {board[6]}  ')\n",
    "    print(f'     |     |              ')\n",
    "    print(f'----------------')    \n",
    "    print(f'     |     |              ')\n",
    "    print(f'  {board[1]}  |  {board[2]}  |  {board[3]}  ')\n",
    "    print(f'     |     |              ')\n",
    "    "
   ]
  },
  {
   "cell_type": "markdown",
   "metadata": {},
   "source": [
    "**TEST Step 1:** run your function on a test version of the board list, and make adjustments as necessary"
   ]
  },
  {
   "cell_type": "code",
   "execution_count": 2,
   "metadata": {},
   "outputs": [
    {
     "name": "stdout",
     "output_type": "stream",
     "text": [
      "     |     |    \n",
      "     |     |     \n",
      "     |     |              \n",
      "----------------\n",
      "     |     |              \n",
      "     |     |     \n",
      "     |     |              \n",
      "----------------\n",
      "     |     |              \n",
      "     |     |     \n",
      "     |     |              \n"
     ]
    }
   ],
   "source": [
    "test_board = ['#'] + [' ' for i in range(1,10)]\n",
    "display_board(test_board)"
   ]
  },
  {
   "cell_type": "markdown",
   "metadata": {},
   "source": [
    "**Step 2: Write a function that can take in a player input and assign their marker as 'X' or 'O'. Think about using *while* loops to continually ask until you get a correct answer.**"
   ]
  },
  {
   "cell_type": "code",
   "execution_count": 3,
   "metadata": {},
   "outputs": [],
   "source": [
    "def player_input():\n",
    "    \n",
    "    players = []\n",
    "    markers = ['X','O']\n",
    "    get_player_input = True\n",
    "    while get_player_input:\n",
    "        userinput = str(input('Enter marker for Player 1 (X or O): '))\n",
    "        if  userinput in markers:\n",
    "            players.append(userinput)\n",
    "            markers.remove(userinput)\n",
    "            players.append(markers.pop())\n",
    "            get_player_input = False\n",
    "    return players"
   ]
  },
  {
   "cell_type": "markdown",
   "metadata": {},
   "source": [
    "**TEST Step 2:** run the function to make sure it returns the desired output"
   ]
  },
  {
   "cell_type": "code",
   "execution_count": 4,
   "metadata": {},
   "outputs": [],
   "source": [
    "#player_input()"
   ]
  },
  {
   "cell_type": "markdown",
   "metadata": {},
   "source": [
    "**Step 3: Write a function that takes in the board list object, a marker ('X' or 'O'), and a desired position (number 1-9) and assigns it to the board.**"
   ]
  },
  {
   "cell_type": "code",
   "execution_count": 5,
   "metadata": {},
   "outputs": [],
   "source": [
    "def place_marker(board, marker, position):\n",
    "    board[position] = marker\n",
    "    return board"
   ]
  },
  {
   "cell_type": "markdown",
   "metadata": {},
   "source": [
    "**TEST Step 3:** run the place marker function using test parameters and display the modified board"
   ]
  },
  {
   "cell_type": "code",
   "execution_count": 6,
   "metadata": {},
   "outputs": [
    {
     "name": "stdout",
     "output_type": "stream",
     "text": [
      "     |     |    \n",
      "     |     |     \n",
      "     |     |              \n",
      "----------------\n",
      "     |     |              \n",
      "     |     |     \n",
      "     |     |              \n",
      "----------------\n",
      "     |     |              \n",
      "  X  |     |     \n",
      "     |     |              \n"
     ]
    }
   ],
   "source": [
    "test_board = place_marker(test_board,'X',1)\n",
    "display_board(test_board)"
   ]
  },
  {
   "cell_type": "markdown",
   "metadata": {},
   "source": [
    "**Step 4: Write a function that takes in a board and a mark (X or O) and then checks to see if that mark has won. **"
   ]
  },
  {
   "cell_type": "code",
   "execution_count": 7,
   "metadata": {},
   "outputs": [],
   "source": [
    "def win_check(board, mark):\n",
    "    \n",
    "    win_points = [[1,2,3],[4,5,6],[7,8,9],[1,4,7],[2,5,8],[3,6,9],[1,5,9],[3,5,7]]\n",
    "    mark_places = [i for i in range(1,10) if board[i]==mark]\n",
    "    print(mark_places)\n",
    "    if len(mark_places) <3:\n",
    "        return False\n",
    "    else:\n",
    "        for each_win_point in win_points:\n",
    "            #print(f'Each winpoint : {each_win_point} - markplaces : {mark_places}')\n",
    "            if set(each_win_point).issubset(set(mark_places)):\n",
    "                return True\n",
    "                break\n",
    "        else:\n",
    "            return False\n",
    "    \n",
    "                "
   ]
  },
  {
   "cell_type": "markdown",
   "metadata": {},
   "source": [
    "**TEST Step 4:** run the win_check function against our test_board - it should return True"
   ]
  },
  {
   "cell_type": "code",
   "execution_count": 8,
   "metadata": {},
   "outputs": [
    {
     "name": "stdout",
     "output_type": "stream",
     "text": [
      "[1]\n",
      "False\n"
     ]
    }
   ],
   "source": [
    "print(win_check(test_board,'X'))"
   ]
  },
  {
   "cell_type": "markdown",
   "metadata": {},
   "source": [
    "**Step 5: Write a function that uses the random module to randomly decide which player goes first. You may want to lookup random.randint() Return a string of which player went first.**"
   ]
  },
  {
   "cell_type": "code",
   "execution_count": 9,
   "metadata": {},
   "outputs": [],
   "source": [
    "import random\n",
    "\n",
    "def choose_first():\n",
    "    return random.randint(0,1)"
   ]
  },
  {
   "cell_type": "code",
   "execution_count": 10,
   "metadata": {},
   "outputs": [
    {
     "data": {
      "text/plain": [
       "0"
      ]
     },
     "execution_count": 10,
     "metadata": {},
     "output_type": "execute_result"
    }
   ],
   "source": [
    "choose_first()"
   ]
  },
  {
   "cell_type": "markdown",
   "metadata": {},
   "source": [
    "**Step 6: Write a function that returns a boolean indicating whether a space on the board is freely available.**"
   ]
  },
  {
   "cell_type": "code",
   "execution_count": 11,
   "metadata": {},
   "outputs": [],
   "source": [
    "def space_check(board, position):\n",
    "    return board[position] == \" \""
   ]
  },
  {
   "cell_type": "code",
   "execution_count": 12,
   "metadata": {},
   "outputs": [
    {
     "data": {
      "text/plain": [
       "True"
      ]
     },
     "execution_count": 12,
     "metadata": {},
     "output_type": "execute_result"
    }
   ],
   "source": [
    "space_check(test_board,2)"
   ]
  },
  {
   "cell_type": "markdown",
   "metadata": {},
   "source": [
    "**Step 7: Write a function that checks if the board is full and returns a boolean value. True if full, False otherwise.**"
   ]
  },
  {
   "cell_type": "code",
   "execution_count": 13,
   "metadata": {},
   "outputs": [],
   "source": [
    "def full_board_check(board):\n",
    "    full_board = True\n",
    "    for i in range(1,len(board)):\n",
    "        if board[i] in ['X','O']:\n",
    "            continue\n",
    "        else:\n",
    "            full_board = False\n",
    "            break\n",
    "    return full_board"
   ]
  },
  {
   "cell_type": "code",
   "execution_count": null,
   "metadata": {},
   "outputs": [],
   "source": [
    "#Alternate method\n",
    "def full_board_check(board):\n",
    "    if \" \" in board[1:]:\n",
    "        return False\n",
    "    else:\n",
    "        return True"
   ]
  },
  {
   "cell_type": "code",
   "execution_count": 14,
   "metadata": {},
   "outputs": [
    {
     "data": {
      "text/plain": [
       "False"
      ]
     },
     "execution_count": 14,
     "metadata": {},
     "output_type": "execute_result"
    }
   ],
   "source": [
    "full_board_check(test_board)"
   ]
  },
  {
   "cell_type": "markdown",
   "metadata": {},
   "source": [
    "**Step 8: Write a function that asks for a player's next position (as a number 1-9) and then uses the function from step 6 to check if it's a free position. If it is, then return the position for later use.**"
   ]
  },
  {
   "cell_type": "code",
   "execution_count": 15,
   "metadata": {},
   "outputs": [],
   "source": [
    "def player_choice(board,player,mark):\n",
    "    position = int(input(f'Player {player}: Enter postion 1-9 to place {mark} : '))\n",
    "    if space_check(board,position):\n",
    "        return position\n",
    "    else:\n",
    "        print('Entered position is filled in already. Please choose a differnet position')\n",
    "        player_choice(board,player,mark)\n",
    "                         "
   ]
  },
  {
   "cell_type": "code",
   "execution_count": 16,
   "metadata": {},
   "outputs": [],
   "source": [
    "#print(player_choice(test_board,1,\"X\"))\n",
    "#clear_output()\n",
    "#print(player_choice(test_board,2,\"X\"))"
   ]
  },
  {
   "cell_type": "markdown",
   "metadata": {},
   "source": [
    "**Step 9: Write a function that asks the player if they want to play again and returns a boolean True if they do want to play again.**"
   ]
  },
  {
   "cell_type": "code",
   "execution_count": 17,
   "metadata": {},
   "outputs": [],
   "source": [
    "def replay():\n",
    "    replay_response = str(input(\"Do you want to play the game again? (Y/N) : \"))\n",
    "    if replay_response =='Y':\n",
    "        return True\n",
    "    elif replay_response=='N':\n",
    "        return False\n",
    "    else:\n",
    "        pass"
   ]
  },
  {
   "cell_type": "markdown",
   "metadata": {
    "collapsed": true
   },
   "source": [
    "**Step 10: Here comes the hard part! Use while loops and the functions you've made to run the game!**"
   ]
  },
  {
   "cell_type": "code",
   "execution_count": null,
   "metadata": {},
   "outputs": [
    {
     "name": "stdout",
     "output_type": "stream",
     "text": [
      "Welcome to Tic Tac Toe!\n",
      "Player 1 is O and Player 2 is X\n",
      "     |     |    \n",
      "     |  X  |  O  \n",
      "     |     |              \n",
      "----------------\n",
      "     |     |              \n",
      "  O  |  X  |     \n",
      "     |     |              \n",
      "----------------\n",
      "     |     |              \n",
      "  X  |  X  |  O  \n",
      "     |     |              \n",
      "Player 2 with mark X has won the game\n"
     ]
    }
   ],
   "source": [
    "print('Welcome to Tic Tac Toe!')\n",
    "\n",
    "\n",
    "\n",
    "while True:\n",
    "    #initialize gamesetup:\n",
    "    test_board = ['#'] + [' ' for i in range(1,10)]\n",
    "    display_board(test_board)\n",
    "    players = player_input()\n",
    "    print(players)\n",
    "    game_is_on = True\n",
    "    next_player = choose_first()\n",
    "\n",
    "    while game_is_on:\n",
    "        clear_output()\n",
    "        print('Welcome to Tic Tac Toe!')\n",
    "        print(f'Player 1 is {players[0]} and Player 2 is {players[1]}')\n",
    "        display_board(test_board)\n",
    "        \n",
    "        test_board=place_marker(test_board,players[next_player],player_choice(test_board,next_player+1,players[next_player]))\n",
    "        \n",
    "        if win_check(test_board,players[next_player]):\n",
    "            clear_output()\n",
    "            print('Welcome to Tic Tac Toe!')\n",
    "            print(f'Player 1 is {players[0]} and Player 2 is {players[1]}')\n",
    "            display_board(test_board)\n",
    "            print(f'Player {players.index(players[next_player])+1} with mark {players[next_player]} has won the game')\n",
    "            game_is_on = False\n",
    "        elif full_board_check(test_board):\n",
    "            print(f'No more turns available. Game ended!!')\n",
    "            game_is_on=False\n",
    "        else:\n",
    "            if next_player == 0:\n",
    "                next_player=1\n",
    "            else:\n",
    "                next_player = 0\n",
    "        \n",
    "    #clear_output()\n",
    "    if not replay():\n",
    "        break"
   ]
  },
  {
   "cell_type": "markdown",
   "metadata": {
    "collapsed": true
   },
   "source": [
    "## Good Job!"
   ]
  }
 ],
 "metadata": {
  "kernelspec": {
   "display_name": "Python 3",
   "language": "python",
   "name": "python3"
  },
  "language_info": {
   "codemirror_mode": {
    "name": "ipython",
    "version": 3
   },
   "file_extension": ".py",
   "mimetype": "text/x-python",
   "name": "python",
   "nbconvert_exporter": "python",
   "pygments_lexer": "ipython3",
   "version": "3.7.3"
  }
 },
 "nbformat": 4,
 "nbformat_minor": 1
}
